{
  "nbformat": 4,
  "nbformat_minor": 0,
  "metadata": {
    "colab": {
      "name": "HorseColic_Accuracy_MethodOne.ipynb",
      "provenance": [],
      "collapsed_sections": []
    },
    "kernelspec": {
      "name": "python3",
      "display_name": "Python 3"
    }
  },
  "cells": [
    {
      "cell_type": "code",
      "metadata": {
        "id": "WLZLJEkzhSX8",
        "colab_type": "code",
        "colab": {
          "base_uri": "https://localhost:8080/",
          "height": 204
        },
        "outputId": "cf18eda7-3ab8-49bb-a0c0-ea5fc4758474"
      },
      "source": [
        "import pandas as pd\n",
        "import numpy as np\n",
        "from sklearn import metrics\n",
        "from sklearn.tree import DecisionTreeClassifier\n",
        "from sklearn.model_selection import train_test_split \n",
        "from sklearn.model_selection import cross_val_score\n",
        "from sklearn.model_selection import KFold\n",
        "from sklearn.metrics import accuracy_score, confusion_matrix, precision_score, recall_score, f1_score\n",
        "import matplotlib.pyplot as plt\n",
        "!pip install scikit-plot\n",
        "import scikitplot as skplt\n",
        "import matplotlib.pyplot as plt"
      ],
      "execution_count": 41,
      "outputs": [
        {
          "output_type": "stream",
          "text": [
            "Requirement already satisfied: scikit-plot in /usr/local/lib/python3.6/dist-packages (0.3.7)\n",
            "Requirement already satisfied: joblib>=0.10 in /usr/local/lib/python3.6/dist-packages (from scikit-plot) (0.16.0)\n",
            "Requirement already satisfied: scipy>=0.9 in /usr/local/lib/python3.6/dist-packages (from scikit-plot) (1.4.1)\n",
            "Requirement already satisfied: matplotlib>=1.4.0 in /usr/local/lib/python3.6/dist-packages (from scikit-plot) (3.2.2)\n",
            "Requirement already satisfied: scikit-learn>=0.18 in /usr/local/lib/python3.6/dist-packages (from scikit-plot) (0.22.2.post1)\n",
            "Requirement already satisfied: numpy>=1.13.3 in /usr/local/lib/python3.6/dist-packages (from scipy>=0.9->scikit-plot) (1.18.5)\n",
            "Requirement already satisfied: kiwisolver>=1.0.1 in /usr/local/lib/python3.6/dist-packages (from matplotlib>=1.4.0->scikit-plot) (1.2.0)\n",
            "Requirement already satisfied: pyparsing!=2.0.4,!=2.1.2,!=2.1.6,>=2.0.1 in /usr/local/lib/python3.6/dist-packages (from matplotlib>=1.4.0->scikit-plot) (2.4.7)\n",
            "Requirement already satisfied: cycler>=0.10 in /usr/local/lib/python3.6/dist-packages (from matplotlib>=1.4.0->scikit-plot) (0.10.0)\n",
            "Requirement already satisfied: python-dateutil>=2.1 in /usr/local/lib/python3.6/dist-packages (from matplotlib>=1.4.0->scikit-plot) (2.8.1)\n",
            "Requirement already satisfied: six in /usr/local/lib/python3.6/dist-packages (from cycler>=0.10->matplotlib>=1.4.0->scikit-plot) (1.15.0)\n"
          ],
          "name": "stdout"
        }
      ]
    },
    {
      "cell_type": "code",
      "metadata": {
        "id": "upPaNEZNeBZY",
        "colab_type": "code",
        "colab": {}
      },
      "source": [
        "url = \"https://raw.githubusercontent.com/hernanChain/csvFiles/master/finalhorse.csv\"\n",
        "data = pd.read_csv(url)"
      ],
      "execution_count": 2,
      "outputs": []
    },
    {
      "cell_type": "code",
      "metadata": {
        "id": "zIC-MUxxiSu0",
        "colab_type": "code",
        "colab": {}
      },
      "source": [
        "data.cp_data = data.cp_data.astype(str)\n",
        "features_columns = ['surgery?', 'Age', 'rectal_temperature', 'pulse', 'respiratory_rate', 'temperature_of_extremities', 'peripheral_pulse', 'mucous_membranes', 'capillary_refill_time', 'pain', 'peristalsis', 'abdominal_distension', 'nasogastric_tube', 'nasogastric_reflux', 'nasogastric_reflux_PH', 'rectal_examination', 'abdomen', 'packed_cell_volume', 'total_protein', 'abdominocentesis_appearance', 'abdomcentesis_total_protein', 'outcome', 'surgical_lesion?', 'type_of_lesion_1', 'type_of_lesion_2', 'type_of_lesion_3']\n",
        "X = data[features_columns]\n",
        "y = data.cp_data"
      ],
      "execution_count": 3,
      "outputs": []
    },
    {
      "cell_type": "code",
      "metadata": {
        "id": "ekmC5d_ui1er",
        "colab_type": "code",
        "colab": {}
      },
      "source": [
        "# Split dataset into training set and test set\n",
        "X_train, X_test, y_train, y_test = train_test_split(X, y, test_size=0.3, random_state=1) # 70% training and 30% test"
      ],
      "execution_count": 4,
      "outputs": []
    },
    {
      "cell_type": "code",
      "metadata": {
        "id": "DsAyLu5UmT9i",
        "colab_type": "code",
        "colab": {}
      },
      "source": [
        "# Create Decision Tree classifer object\n",
        "clf = DecisionTreeClassifier()\n",
        "# Train Decision Tree Classifer\n",
        "clf = clf.fit(X_train,y_train)\n",
        "#Predict the response for test dataset\n",
        "y_pred = clf.predict(X_test)\n",
        "#Scores with split\n",
        "score_pred = metrics.accuracy_score(y_test, y_pred)"
      ],
      "execution_count": 5,
      "outputs": []
    },
    {
      "cell_type": "code",
      "metadata": {
        "id": "EPBO4_Aoyu-E",
        "colab_type": "code",
        "colab": {}
      },
      "source": [
        "# Create the object for cross validation\n",
        "kf = KFold(n_splits=5)"
      ],
      "execution_count": 6,
      "outputs": []
    },
    {
      "cell_type": "code",
      "metadata": {
        "id": "Fl3EbJanzOrz",
        "colab_type": "code",
        "colab": {}
      },
      "source": [
        "#Scores with cross validation \n",
        "scores = cross_val_score(clf, X, y, cv = kf, scoring=\"accuracy\")"
      ],
      "execution_count": 7,
      "outputs": []
    },
    {
      "cell_type": "code",
      "metadata": {
        "id": "ucFmj42qv92y",
        "colab_type": "code",
        "colab": {
          "base_uri": "https://localhost:8080/",
          "height": 68
        },
        "outputId": "610a0780-ccb9-4c8d-f9f8-d435da4c11c4"
      },
      "source": [
        "print(\"Accuracy with Splitting: \", score_pred)\n",
        "print(\"Accuracies with Cross Validation: \", scores)\n",
        "print(\"Accuracy with Cross Validation: \", scores.mean())"
      ],
      "execution_count": 8,
      "outputs": [
        {
          "output_type": "stream",
          "text": [
            "Accuracy with Splitting:  0.7888888888888889\n",
            "Accuracies with Cross Validation:  [0.73333333 0.85       0.75       0.76666667 0.73333333]\n",
            "Accuracy with Cross Validation:  0.7666666666666666\n"
          ],
          "name": "stdout"
        }
      ]
    },
    {
      "cell_type": "code",
      "metadata": {
        "id": "mnFohl3NiVS2",
        "colab_type": "code",
        "colab": {
          "base_uri": "https://localhost:8080/",
          "height": 68
        },
        "outputId": "e20f4e40-fb93-4327-9e17-a59d40a134ac"
      },
      "source": [
        "# Confusion Matrix\n",
        "matrix = confusion_matrix(y_test, y_pred)\n",
        "print(\"Matriz de Confusion\")\n",
        "print(matrix)"
      ],
      "execution_count": 19,
      "outputs": [
        {
          "output_type": "stream",
          "text": [
            "Matriz de Confusion\n",
            "[[19 10]\n",
            " [ 9 52]]\n"
          ],
          "name": "stdout"
        }
      ]
    },
    {
      "cell_type": "code",
      "metadata": {
        "id": "18OGtxLTj58T",
        "colab_type": "code",
        "colab": {
          "base_uri": "https://localhost:8080/",
          "height": 51
        },
        "outputId": "14b81c43-c625-49bb-e439-2f5375e0b140"
      },
      "source": [
        "# Precision Score\n",
        "precision = precision_score(y_test, y_pred, pos_label=\"1\")\n",
        "print(\"Precision\")\n",
        "print(precision)"
      ],
      "execution_count": 23,
      "outputs": [
        {
          "output_type": "stream",
          "text": [
            "Precision\n",
            "0.6785714285714286\n"
          ],
          "name": "stdout"
        }
      ]
    },
    {
      "cell_type": "code",
      "metadata": {
        "colab_type": "code",
        "id": "a3wJfGhtlxxY",
        "colab": {
          "base_uri": "https://localhost:8080/",
          "height": 51
        },
        "outputId": "ac70b0d3-960f-472b-89f6-088bd5ef4bb4"
      },
      "source": [
        "# Recall Score\n",
        "recall = recall_score(y_test, y_pred, pos_label=\"1\")\n",
        "print(\"Recall\")\n",
        "print(recall)"
      ],
      "execution_count": 25,
      "outputs": [
        {
          "output_type": "stream",
          "text": [
            "Recall\n",
            "0.6551724137931034\n"
          ],
          "name": "stdout"
        }
      ]
    },
    {
      "cell_type": "code",
      "metadata": {
        "id": "hxOGZE0Fl_gP",
        "colab_type": "code",
        "colab": {
          "base_uri": "https://localhost:8080/",
          "height": 51
        },
        "outputId": "129ac701-fe02-4853-d912-9efd85476f3f"
      },
      "source": [
        "score_f1 = f1_score(y_test, y_pred, pos_label=\"1\")\n",
        "print(\"F1 Score\")\n",
        "print(score_f1)"
      ],
      "execution_count": 35,
      "outputs": [
        {
          "output_type": "stream",
          "text": [
            "F1 Score\n",
            "0.6666666666666666\n"
          ],
          "name": "stdout"
        }
      ]
    }
  ]
}