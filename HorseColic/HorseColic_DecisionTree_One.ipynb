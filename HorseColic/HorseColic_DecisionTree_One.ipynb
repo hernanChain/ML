{
  "nbformat": 4,
  "nbformat_minor": 0,
  "metadata": {
    "colab": {
      "name": "HorseColic_Accuracy_MethodTwo.ipynb",
      "provenance": [],
      "collapsed_sections": []
    },
    "kernelspec": {
      "name": "python3",
      "display_name": "Python 3"
    }
  },
  "cells": [
    {
      "cell_type": "code",
      "metadata": {
        "id": "WLZLJEkzhSX8",
        "colab_type": "code",
        "colab": {}
      },
      "source": [
        "import pandas as pd\n",
        "import numpy as np\n",
        "from sklearn import metrics\n",
        "from sklearn.tree import DecisionTreeClassifier\n",
        "from sklearn.model_selection import train_test_split \n",
        "from sklearn.model_selection import KFold\n",
        "from sklearn.metrics import accuracy_score"
      ],
      "execution_count": 1,
      "outputs": []
    },
    {
      "cell_type": "code",
      "metadata": {
        "id": "upPaNEZNeBZY",
        "colab_type": "code",
        "colab": {}
      },
      "source": [
        "url = \"https://raw.githubusercontent.com/hernanChain/csvFiles/master/finalhorse.csv\"\n",
        "data = pd.read_csv(url)"
      ],
      "execution_count": 2,
      "outputs": []
    },
    {
      "cell_type": "code",
      "metadata": {
        "id": "zIC-MUxxiSu0",
        "colab_type": "code",
        "colab": {}
      },
      "source": [
        "data.cp_data = data.cp_data.astype(str)\n",
        "features_columns = ['surgery?', 'Age', 'rectal_temperature', 'pulse', 'respiratory_rate', 'temperature_of_extremities', 'peripheral_pulse', 'mucous_membranes', 'capillary_refill_time', 'pain', 'peristalsis', 'abdominal_distension', 'nasogastric_tube', 'nasogastric_reflux', 'nasogastric_reflux_PH', 'rectal_examination', 'abdomen', 'packed_cell_volume', 'total_protein', 'abdominocentesis_appearance', 'abdomcentesis_total_protein', 'outcome', 'surgical_lesion?', 'type_of_lesion_1', 'type_of_lesion_2', 'type_of_lesion_3']\n",
        "X = data[features_columns]\n",
        "y = data.cp_data"
      ],
      "execution_count": 3,
      "outputs": []
    },
    {
      "cell_type": "code",
      "metadata": {
        "id": "ekmC5d_ui1er",
        "colab_type": "code",
        "colab": {}
      },
      "source": [
        "# Split dataset into training set and test set\n",
        "X_train, X_test, y_train, y_test = train_test_split(X, y, test_size=0.3, random_state=1) # 70% training and 30% test"
      ],
      "execution_count": 4,
      "outputs": []
    },
    {
      "cell_type": "code",
      "metadata": {
        "id": "DsAyLu5UmT9i",
        "colab_type": "code",
        "colab": {}
      },
      "source": [
        "# Create Decision Tree classifer object\n",
        "clf = DecisionTreeClassifier()\n",
        "# Train Decision Tree Classifer\n",
        "clf = clf.fit(X_train,y_train)\n",
        "#Predict the response for test dataset\n",
        "y_pred = clf.predict(X_test)\n",
        "#Scores with split\n",
        "score_pred = metrics.accuracy_score(y_test, y_pred)"
      ],
      "execution_count": 5,
      "outputs": []
    },
    {
      "cell_type": "code",
      "metadata": {
        "id": "PsnURqXzqiFv",
        "colab_type": "code",
        "colab": {
          "base_uri": "https://localhost:8080/",
          "height": 34
        },
        "outputId": "62186cfe-0e32-45a2-de37-1ba14fdfd7f3"
      },
      "source": [
        "# Create the object for cross validation\n",
        "kf = KFold(n_splits=5,shuffle=False)\n",
        "kf.split(X) "
      ],
      "execution_count": 6,
      "outputs": [
        {
          "output_type": "execute_result",
          "data": {
            "text/plain": [
              "<generator object _BaseKFold.split at 0x7f69727ea678>"
            ]
          },
          "metadata": {
            "tags": []
          },
          "execution_count": 6
        }
      ]
    },
    {
      "cell_type": "code",
      "metadata": {
        "id": "uwY3C4exq51y",
        "colab_type": "code",
        "colab": {}
      },
      "source": [
        "# Initialize the accuracy of the models to blank list. The accuracy of each model will be appended to this list\n",
        "accuracy_model = []\n",
        " \n",
        "# Iterate over each train-test split\n",
        "for train_index, test_index in kf.split(X):\n",
        "    # Split train-test\n",
        "    X_train, X_test = X.iloc[train_index], X.iloc[test_index]\n",
        "    y_train, y_test = y[train_index], y[test_index]\n",
        "    # Train the model\n",
        "    model = clf.fit(X_train, y_train)\n",
        "    # Append to accuracy_model the accuracy of the model\n",
        "    accuracy_model.append(accuracy_score(y_test, model.predict(X_test), normalize=True))\n"
      ],
      "execution_count": 7,
      "outputs": []
    },
    {
      "cell_type": "code",
      "metadata": {
        "id": "j3le8VN8q7Y1",
        "colab_type": "code",
        "colab": {
          "base_uri": "https://localhost:8080/",
          "height": 68
        },
        "outputId": "0a981c2b-0330-45b9-e248-89c15112be9e"
      },
      "source": [
        "print(\"Accuracy with Splitting: \", score_pred)\n",
        "print(\"Accuracies with Cross Validation: \", accuracy_model)\n",
        "print(\"Accuracy with Cross Validation: \", np.mean(accuracy_model))"
      ],
      "execution_count": 8,
      "outputs": [
        {
          "output_type": "stream",
          "text": [
            "Accuracy with Splitting:  0.7777777777777778\n",
            "Accuracies with Cross Validation:  [0.7333333333333333, 0.8333333333333334, 0.7666666666666667, 0.75, 0.7166666666666667]\n",
            "Accuracy with Cross Validation:  0.76\n"
          ],
          "name": "stdout"
        }
      ]
    }
  ]
}