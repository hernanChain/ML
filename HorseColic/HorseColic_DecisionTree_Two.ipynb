{
  "nbformat": 4,
  "nbformat_minor": 0,
  "metadata": {
    "colab": {
      "name": "HorseColic_Accuracy_MethodOne.ipynb",
      "provenance": [],
      "collapsed_sections": []
    },
    "kernelspec": {
      "name": "python3",
      "display_name": "Python 3"
    }
  },
  "cells": [
    {
      "cell_type": "code",
      "metadata": {
        "id": "WLZLJEkzhSX8",
        "colab_type": "code",
        "colab": {}
      },
      "source": [
        "import pandas as pd\n",
        "import numpy as np\n",
        "from sklearn import metrics\n",
        "from sklearn.tree import DecisionTreeClassifier\n",
        "from sklearn.model_selection import train_test_split \n",
        "from sklearn.model_selection import cross_val_score\n",
        "from sklearn.model_selection import KFold\n",
        "from sklearn.metrics import accuracy_score"
      ],
      "execution_count": 1,
      "outputs": []
    },
    {
      "cell_type": "code",
      "metadata": {
        "id": "upPaNEZNeBZY",
        "colab_type": "code",
        "colab": {}
      },
      "source": [
        "url = \"https://raw.githubusercontent.com/hernanChain/csvFiles/master/finalhorse.csv\"\n",
        "data = pd.read_csv(url)"
      ],
      "execution_count": 2,
      "outputs": []
    },
    {
      "cell_type": "code",
      "metadata": {
        "id": "zIC-MUxxiSu0",
        "colab_type": "code",
        "colab": {}
      },
      "source": [
        "data.cp_data = data.cp_data.astype(str)\n",
        "features_columns = ['surgery?', 'Age', 'rectal_temperature', 'pulse', 'respiratory_rate', 'temperature_of_extremities', 'peripheral_pulse', 'mucous_membranes', 'capillary_refill_time', 'pain', 'peristalsis', 'abdominal_distension', 'nasogastric_tube', 'nasogastric_reflux', 'nasogastric_reflux_PH', 'rectal_examination', 'abdomen', 'packed_cell_volume', 'total_protein', 'abdominocentesis_appearance', 'abdomcentesis_total_protein', 'outcome', 'surgical_lesion?', 'type_of_lesion_1', 'type_of_lesion_2', 'type_of_lesion_3']\n",
        "X = data[features_columns]\n",
        "y = data.cp_data"
      ],
      "execution_count": 3,
      "outputs": []
    },
    {
      "cell_type": "code",
      "metadata": {
        "id": "ekmC5d_ui1er",
        "colab_type": "code",
        "colab": {}
      },
      "source": [
        "# Split dataset into training set and test set\n",
        "X_train, X_test, y_train, y_test = train_test_split(X, y, test_size=0.3, random_state=1) # 70% training and 30% test"
      ],
      "execution_count": 4,
      "outputs": []
    },
    {
      "cell_type": "code",
      "metadata": {
        "id": "DsAyLu5UmT9i",
        "colab_type": "code",
        "colab": {}
      },
      "source": [
        "# Create Decision Tree classifer object\n",
        "clf = DecisionTreeClassifier()\n",
        "# Train Decision Tree Classifer\n",
        "clf = clf.fit(X_train,y_train)\n",
        "#Predict the response for test dataset\n",
        "y_pred = clf.predict(X_test)\n",
        "#Scores with split\n",
        "score_pred = metrics.accuracy_score(y_test, y_pred)"
      ],
      "execution_count": 5,
      "outputs": []
    },
    {
      "cell_type": "code",
      "metadata": {
        "id": "EPBO4_Aoyu-E",
        "colab_type": "code",
        "colab": {}
      },
      "source": [
        "# Create the object for cross validation\n",
        "kf = KFold(n_splits=5)"
      ],
      "execution_count": 6,
      "outputs": []
    },
    {
      "cell_type": "code",
      "metadata": {
        "id": "Fl3EbJanzOrz",
        "colab_type": "code",
        "colab": {}
      },
      "source": [
        "#Scores with cross validation \n",
        "scores = cross_val_score(clf, X_train, y_train, cv = kf, scoring=\"accuracy\")"
      ],
      "execution_count": 7,
      "outputs": []
    },
    {
      "cell_type": "code",
      "metadata": {
        "id": "ucFmj42qv92y",
        "colab_type": "code",
        "colab": {
          "base_uri": "https://localhost:8080/",
          "height": 68
        },
        "outputId": "d92e33a0-43d3-4c36-ceac-7452520b9ecd"
      },
      "source": [
        "print(\"Accuracy with Splitting: \", score_pred)\n",
        "print(\"Accuracies with Cross Validation: \", scores)\n",
        "print(\"Accuracy with Cross Validation: \", scores.mean())"
      ],
      "execution_count": 8,
      "outputs": [
        {
          "output_type": "stream",
          "text": [
            "Accuracy with Splitting:  0.7777777777777778\n",
            "Accuracies with Cross Validation:  [0.85714286 0.88095238 0.73809524 0.78571429 0.80952381]\n",
            "Accuracy with Cross Validation:  0.8142857142857143\n"
          ],
          "name": "stdout"
        }
      ]
    }
  ]
}