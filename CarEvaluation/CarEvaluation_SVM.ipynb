{
  "nbformat": 4,
  "nbformat_minor": 0,
  "metadata": {
    "colab": {
      "name": "CarEvaluation_SVM.ipynb",
      "provenance": [],
      "collapsed_sections": []
    },
    "kernelspec": {
      "name": "python3",
      "display_name": "Python 3"
    }
  },
  "cells": [
    {
      "cell_type": "code",
      "metadata": {
        "id": "aBrtcUgns-Wd",
        "colab_type": "code",
        "colab": {}
      },
      "source": [
        "import pandas as pd\n",
        "import numpy as np\n",
        "from sklearn.svm import SVC\n",
        "from sklearn import metrics\n",
        "from sklearn.model_selection import train_test_split \n",
        "from sklearn.model_selection import cross_val_score\n",
        "from sklearn.metrics import confusion_matrix\n",
        "from sklearn.metrics import precision_score\n",
        "from sklearn.model_selection import KFold\n",
        "from sklearn.metrics import accuracy_score"
      ],
      "execution_count": 1,
      "outputs": []
    },
    {
      "cell_type": "code",
      "metadata": {
        "id": "OVIqRgA3te-M",
        "colab_type": "code",
        "colab": {}
      },
      "source": [
        "url = \"https://raw.githubusercontent.com/hernanChain/csvFiles/master/CarEvaluation/CarEvaluation.csv\"\n",
        "data = pd.read_csv(url)"
      ],
      "execution_count": 2,
      "outputs": []
    },
    {
      "cell_type": "code",
      "metadata": {
        "id": "VQniZUXgtkH9",
        "colab_type": "code",
        "colab": {}
      },
      "source": [
        "features_columns = ['buying', 'maint', 'doors', 'persons', 'lug_boot', 'safety']\n",
        "X = data[features_columns]\n",
        "y = data.Target"
      ],
      "execution_count": 3,
      "outputs": []
    },
    {
      "cell_type": "code",
      "metadata": {
        "id": "WZylSSHgwtDl",
        "colab_type": "code",
        "colab": {}
      },
      "source": [
        "#Create instance of Algorithm and define the kernel type\n",
        "#clf = SVC(kernel='linear')\n",
        "#clf = SVC(kernel='poly')\n",
        "clf = SVC(kernel='rbf')\n",
        "#clf = SVC(kernel='sigmoid')\n",
        "# Create the object for cross validation\n",
        "kf = KFold(n_splits=5)"
      ],
      "execution_count": 4,
      "outputs": []
    },
    {
      "cell_type": "code",
      "metadata": {
        "id": "JcEdse0VyWol",
        "colab_type": "code",
        "colab": {}
      },
      "source": [
        "#Scores with cross validation \n",
        "scores = cross_val_score(clf, X, y, cv = kf, scoring=\"accuracy\")"
      ],
      "execution_count": 5,
      "outputs": []
    },
    {
      "cell_type": "code",
      "metadata": {
        "id": "PdqrkiAIzVxq",
        "colab_type": "code",
        "colab": {
          "base_uri": "https://localhost:8080/",
          "height": 51
        },
        "outputId": "88b7c2cb-6d78-462a-95ca-c997ec44534e"
      },
      "source": [
        "print(\"Accuracies with Cross Validation: \", scores)\n",
        "print(\"Accuracy with Cross Validation: \", scores.mean())"
      ],
      "execution_count": 6,
      "outputs": [
        {
          "output_type": "stream",
          "text": [
            "Accuracies with Cross Validation:  [0.97398844 0.94797688 0.89884393 0.89565217 0.86666667]\n",
            "Accuracy with Cross Validation:  0.9166256178269248\n"
          ],
          "name": "stdout"
        }
      ]
    }
  ]
}