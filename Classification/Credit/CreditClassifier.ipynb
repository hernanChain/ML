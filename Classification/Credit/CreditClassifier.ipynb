{
 "cells": [
  {
   "cell_type": "markdown",
   "metadata": {
    "colab_type": "text",
    "id": "oxjtbqYk2dwH"
   },
   "source": [
    "**Import libraries**"
   ]
  },
  {
   "cell_type": "code",
   "execution_count": null,
   "metadata": {
    "colab": {
     "base_uri": "https://localhost:8080/",
     "height": 1000
    },
    "colab_type": "code",
    "id": "SEmEuGcdLZo-",
    "outputId": "4cd0e416-574e-442b-85df-4d356ea30a6d"
   },
   "outputs": [],
   "source": [
    "!pip install pandas-profiling==2.7.1\n",
    "!pip install scikit-plot\n",
    "\n",
    "import numpy as np\n",
    "import pandas as pd\n",
    "import seaborn as sns\n",
    "import pandas_profiling\n",
    "import matplotlib.pyplot as plt\n",
    "from pandas_profiling import ProfileReport\n",
    "# Classifiers\n",
    "from sklearn.svm import SVC\n",
    "from sklearn.naive_bayes import GaussianNB\n",
    "from sklearn.tree import DecisionTreeClassifier\n",
    "from sklearn.linear_model import LogisticRegression\n",
    "# Folds\n",
    "from sklearn.model_selection import KFold\n",
    "from sklearn.model_selection import StratifiedKFold\n",
    "# Training methods\n",
    "from sklearn.model_selection import cross_validate\n",
    "from sklearn.model_selection import cross_val_score\n",
    "from sklearn.model_selection import train_test_split\n",
    "from sklearn.model_selection import cross_val_predict\n",
    "# Metrics\n",
    "from sklearn import metrics\n",
    "from sklearn.metrics import f1_score\n",
    "from sklearn.metrics import recall_score\n",
    "from sklearn.metrics import accuracy_score\n",
    "from sklearn.metrics import precision_score\n",
    "from sklearn.metrics import confusion_matrix\n",
    "from sklearn.metrics import classification_report\n",
    "# Plots\n",
    "import matplotlib.pyplot as plt\n",
    "import scikitplot as skplt\n",
    "# Balance\n",
    "from imblearn.under_sampling import NearMiss\n",
    "from imblearn.over_sampling import RandomOverSampler\n",
    "from imblearn.combine import SMOTETomek\n",
    "from imblearn.ensemble import BalancedBaggingClassifier\n",
    "# Download dataset\n",
    "#from google.colab import files\n",
    "\n",
    "from collections import Counter"
   ]
  },
  {
   "cell_type": "markdown",
   "metadata": {
    "colab_type": "text",
    "id": "_Zp-RgR-dMKv"
   },
   "source": [
    "**Clean and Prepare Dataset**"
   ]
  },
  {
   "cell_type": "code",
   "execution_count": null,
   "metadata": {
    "colab": {},
    "colab_type": "code",
    "id": "rE8EhRcy5gHj"
   },
   "outputs": [],
   "source": [
    "# Read dataset as Dataframe from Github\n",
    "train_dataset = pd.read_csv(\"https://raw.githubusercontent.com/hernanChain/csvFiles/master/CreditDatasets/train_dataset.csv\")\n",
    "test_dataset = pd.read_csv(\"https://raw.githubusercontent.com/hernanChain/csvFiles/master/CreditDatasets/test_dataset.csv\")"
   ]
  },
  {
   "cell_type": "markdown",
   "metadata": {
    "colab_type": "text",
    "id": "Az_-2rli29YL"
   },
   "source": [
    "Show the head of Dataset, first 5 rows"
   ]
  },
  {
   "cell_type": "code",
   "execution_count": null,
   "metadata": {
    "colab": {
     "base_uri": "https://localhost:8080/",
     "height": 530
    },
    "colab_type": "code",
    "id": "ADxJC5ydFBVw",
    "outputId": "95df774b-63c5-43a4-e679-fba4974ca039"
   },
   "outputs": [],
   "source": [
    "train_dataset.head()"
   ]
  },
  {
   "cell_type": "code",
   "execution_count": null,
   "metadata": {
    "colab": {
     "base_uri": "https://localhost:8080/",
     "height": 530
    },
    "colab_type": "code",
    "id": "EhMDxlRnFB-d",
    "outputId": "b8f8c7dc-440a-4a47-f75c-573093e64733"
   },
   "outputs": [],
   "source": [
    "test_dataset.head()"
   ]
  },
  {
   "cell_type": "markdown",
   "metadata": {
    "colab_type": "text",
    "id": "dLNoJxQkdOLW"
   },
   "source": [
    "Show type of each variable"
   ]
  },
  {
   "cell_type": "code",
   "execution_count": null,
   "metadata": {
    "colab": {
     "base_uri": "https://localhost:8080/",
     "height": 935
    },
    "colab_type": "code",
    "id": "oa6XxL5mhvXU",
    "outputId": "81d059c5-eedd-4e2e-fe7b-dcb5e5f10ec6"
   },
   "outputs": [],
   "source": [
    "print(\"Numero Filas y Columnas en dataset de entrenamiento = \",train_dataset.shape)\n",
    "print(\"Valores nulos en dataSet de entrenamiento: \\n\")\n",
    "print(train_dataset.isnull().sum())\n",
    "print(\"\\nTipos de valores en el dataset \\n\")\n",
    "print(train_dataset.dtypes)"
   ]
  },
  {
   "cell_type": "code",
   "execution_count": null,
   "metadata": {
    "colab": {
     "base_uri": "https://localhost:8080/",
     "height": 901
    },
    "colab_type": "code",
    "id": "lZq8ZUKZFyGQ",
    "outputId": "e2d1ba48-ef85-443d-8604-12e4fa9be225"
   },
   "outputs": [],
   "source": [
    "print(\"Numero Filas y Columnas en dataset de prueba = \",test_dataset.shape)\n",
    "print(\"Valores nulos en dataSet de prueba: \\n\")\n",
    "print(test_dataset.isnull().sum())\n",
    "print(\"\\nTipos de valores en el dataset \\n\")\n",
    "print(test_dataset.dtypes)"
   ]
  },
  {
   "cell_type": "markdown",
   "metadata": {
    "colab_type": "text",
    "id": "yGVtEQmo3ZMP"
   },
   "source": [
    "Show extra information"
   ]
  },
  {
   "cell_type": "code",
   "execution_count": null,
   "metadata": {
    "colab": {
     "base_uri": "https://localhost:8080/",
     "height": 34
    },
    "colab_type": "code",
    "id": "HmYQusGGNEwd",
    "outputId": "702279da-9e1a-4a89-d6a1-e3ee2eb81a30"
   },
   "outputs": [],
   "source": [
    "# How much companies in entire dataset\n",
    "len(train_dataset.company.unique().tolist())"
   ]
  },
  {
   "cell_type": "code",
   "execution_count": null,
   "metadata": {
    "colab": {
     "base_uri": "https://localhost:8080/",
     "height": 68
    },
    "colab_type": "code",
    "id": "XWgh97T3TKAt",
    "outputId": "98b7ca06-9510-450d-c59d-31090d0481c1"
   },
   "outputs": [],
   "source": [
    "# How much rows with each class\n",
    "print(pd.value_counts(train_dataset['defaulted_loan']))"
   ]
  },
  {
   "cell_type": "markdown",
   "metadata": {
    "colab_type": "text",
    "id": "Qf9cf3ckdoQo"
   },
   "source": [
    "Convert some variable to numeric values"
   ]
  },
  {
   "cell_type": "code",
   "execution_count": null,
   "metadata": {
    "colab": {},
    "colab_type": "code",
    "id": "J8tNqAFLWJUl"
   },
   "outputs": [],
   "source": [
    "def toMapBoolean(chain):\n",
    "  if chain == True:\n",
    "    return 1\n",
    "  elif chain == False:\n",
    "    return 0\n",
    "    \n",
    "def toMapClass(chain):\n",
    "  if chain == 1:\n",
    "    return \"1\"\n",
    "  elif chain == 0:\n",
    "    return \"0\"\n",
    "\n",
    "def toMapProvider(chain):\n",
    "  if chain.find(\"JCB\")>= 0:\n",
    "    return 1\n",
    "  elif chain.find(\"VISA\") >= 0:\n",
    "    return 2\n",
    "  elif chain.find(\"Maestro\") >= 0:\n",
    "    return 3\n",
    "  elif chain.find(\"Diners\") >= 0:\n",
    "    return 4\n",
    "  elif chain.find(\"American\") >= 0:\n",
    "    return 5\n",
    "  elif chain.find(\"Voyager\") >= 0:\n",
    "    return 6\n",
    "  elif chain.find(\"Discover\") >= 0:\n",
    "    return 7\n",
    "  elif chain.find(\"Mastercard\") >= 0:\n",
    "    return 8\n",
    "  else:\n",
    "    return 9\n",
    "\n",
    "def toMapDateApplicationYear(chain):\n",
    "  return int(chain[0:4])\n",
    "\n",
    "def toMapDateApplicationMonth(chain):\n",
    "  return int(chain[5:7])\n",
    "\n",
    "def toMapEmail(chain):\n",
    "  if chain == \"gmail.com\":\n",
    "    return 1\n",
    "  elif chain == \"hotmail.com\":\n",
    "    return 2\n",
    "  elif chain == \"yahoo.com\":\n",
    "    return 3\n",
    "  else:\n",
    "    return 4\n",
    "\n",
    "def toMapExpireMonth(chain):\n",
    "  return int(chain[0:2])\n",
    "\n",
    "def splitCurrentsJobs(chain):\n",
    "  currentJobs = chain.split(sep=',')\n",
    "  return currentJobs\n",
    "\n",
    "def getFirstJob(chain):\n",
    "  currentJobs = splitCurrentsJobs(chain)\n",
    "  return currentJobs[0].lower()\n",
    "\n",
    "def getSecondJob(chain):\n",
    "  currentJobs = splitCurrentsJobs(chain)\n",
    "  if len(currentJobs) > 1:\n",
    "    return currentJobs[1][1:len(currentJobs[1])].lower()\n",
    "  else:\n",
    "    return 'nothing'"
   ]
  },
  {
   "cell_type": "code",
   "execution_count": null,
   "metadata": {
    "colab": {},
    "colab_type": "code",
    "id": "q7a2FCHMdSvV"
   },
   "outputs": [],
   "source": [
    "# True -> 1\n",
    "# False -> 0\n",
    "train_dataset['defaulted_loan'] = train_dataset['defaulted_loan'].apply(toMapBoolean)\n",
    "train_dataset['has_criminal_records'] = train_dataset['has_criminal_records'].apply(toMapBoolean)\n",
    "train_dataset['is_married'] = train_dataset['is_married'].apply(toMapBoolean)\n",
    "train_dataset['smoker'] = train_dataset['smoker'].apply(toMapBoolean)\n",
    "\n",
    "test_dataset['has_criminal_records'] = test_dataset['has_criminal_records'].apply(toMapBoolean)\n",
    "test_dataset['is_married'] = test_dataset['is_married'].apply(toMapBoolean)\n",
    "test_dataset['smoker'] = test_dataset['smoker'].apply(toMapBoolean)\n",
    "\n",
    "# 1 ->  JCB x digit\n",
    "# 2 ->  VISA x digit\n",
    "# 3 ->  Maestro\n",
    "# 4 ->  Diners Club / Carte Blanche\n",
    "# 5 ->  American Express\n",
    "# 6 ->  Voyager\n",
    "# 7 ->  Discover\n",
    "# 8 ->  Mastercard\n",
    "# 9 ->  Otro\n",
    "\n",
    "train_dataset['credit_card_provider'] = train_dataset['credit_card_provider'].apply(toMapProvider)\n",
    "\n",
    "test_dataset['credit_card_provider'] = test_dataset['credit_card_provider'].apply(toMapProvider)\n",
    "\n",
    "# Insert in column 7 only application year\n",
    "\n",
    "train_dataset.insert(7,'application_year', train_dataset['application_date'].apply(toMapDateApplicationYear),True)\n",
    "\n",
    "test_dataset.insert(7,'application_year', test_dataset['application_date'].apply(toMapDateApplicationYear),True)\n",
    "\n",
    "# Insert in column 8 only application month\n",
    "\n",
    "train_dataset.insert(8,'application_month',train_dataset['application_date'].apply(toMapDateApplicationMonth),True)\n",
    "\n",
    "test_dataset.insert(8,'application_month',test_dataset['application_date'].apply(toMapDateApplicationMonth),True)\n",
    "\n",
    "# 1 ->  gmail.com\n",
    "# 2 ->  hotmail.com\n",
    "# 3 ->  yahoo.com\n",
    "# 4 ->  Otro\n",
    "\n",
    "train_dataset['email_domain'] = train_dataset.email_domain.apply(toMapEmail)\n",
    "\n",
    "test_dataset['email_domain'] = test_dataset.email_domain.apply(toMapEmail)\n",
    "\n",
    "# Insert in column 18 only expire month\n",
    "\n",
    "train_dataset.insert(18,'expire_month', train_dataset['credit_card_expire'].apply(toMapExpireMonth),True)\n",
    "\n",
    "test_dataset.insert(18,'expire_month', test_dataset['credit_card_expire'].apply(toMapExpireMonth),True)\n",
    "\n",
    "# Create two new columns with jobs\n",
    "\n",
    "train_dataset.insert(15,'first_job', train_dataset.current_job.apply(getFirstJob),True)\n",
    "train_dataset.insert(16,'second_job', train_dataset.current_job.apply(getSecondJob),True)\n",
    "\n",
    "test_dataset.insert(15,'first_job', test_dataset.current_job.apply(getFirstJob),True)\n",
    "test_dataset.insert(16,'second_job', test_dataset.current_job.apply(getSecondJob),True)"
   ]
  },
  {
   "cell_type": "code",
   "execution_count": null,
   "metadata": {
    "colab": {},
    "colab_type": "code",
    "id": "wHlEuhg_eVIo"
   },
   "outputs": [],
   "source": [
    "jobs1 = train_dataset['first_job'].unique().tolist()\n",
    "jobs2 = train_dataset['second_job'].unique().tolist()\n",
    "jobs = jobs1 + list(set(jobs2) - set(jobs1))"
   ]
  },
  {
   "cell_type": "code",
   "execution_count": null,
   "metadata": {
    "colab": {},
    "colab_type": "code",
    "id": "HXCYczNHuS4Z"
   },
   "outputs": [],
   "source": [
    "def toMapJob(job):\n",
    "  return jobs.index(job)"
   ]
  },
  {
   "cell_type": "code",
   "execution_count": null,
   "metadata": {
    "colab": {},
    "colab_type": "code",
    "id": "Hqd8o1ptuwm1"
   },
   "outputs": [],
   "source": [
    "train_dataset['first_job'] = train_dataset.first_job.apply(toMapJob)\n",
    "train_dataset['second_job'] = train_dataset.second_job.apply(toMapJob)\n",
    "\n",
    "test_dataset['first_job'] = test_dataset.first_job.apply(toMapJob)\n",
    "test_dataset['second_job'] = test_dataset.second_job.apply(toMapJob)"
   ]
  },
  {
   "cell_type": "code",
   "execution_count": null,
   "metadata": {
    "colab": {},
    "colab_type": "code",
    "id": "F1HnxxczBsXz"
   },
   "outputs": [],
   "source": [
    "#train_dataset = train_dataset.drop(['car_licence_plate','company','phone_number','name','address','application_date','credit_card_expire','current_job','credit_card_number'],axis=1)\n",
    "\n",
    "#test_dataset = test_dataset.drop(['car_licence_plate','company','phone_number','name','address','application_date','credit_card_expire','current_job','credit_card_number'],axis=1)\n",
    "train_dataset = train_dataset.drop(['car_licence_plate','company','phone_number','name','address','application_date','credit_card_expire','current_job','credit_card_number'],axis=1)\n",
    "\n",
    "test_dataset = test_dataset.drop(['car_licence_plate','company','phone_number','name','address','application_date','credit_card_expire','current_job','credit_card_number'],axis=1)"
   ]
  },
  {
   "cell_type": "markdown",
   "metadata": {
    "colab_type": "text",
    "id": "HAzKmfqjd1Qv"
   },
   "source": [
    "Review the changes in each variable"
   ]
  },
  {
   "cell_type": "code",
   "execution_count": null,
   "metadata": {
    "colab": {
     "base_uri": "https://localhost:8080/",
     "height": 782
    },
    "colab_type": "code",
    "id": "l6DYaxl0Ymj-",
    "outputId": "bd9f1320-8c69-4e95-a4be-5b6a872deecf"
   },
   "outputs": [],
   "source": [
    "print(\"Numero Filas y Columnas en dataset de entrenamiento = \",train_dataset.shape)\n",
    "print(\"Valores nulos en dataSet de entrenamiento: \\n\")\n",
    "print(train_dataset.isnull().sum())\n",
    "print(\"Tipos de valores: \\n\")\n",
    "print(train_dataset.dtypes)"
   ]
  },
  {
   "cell_type": "code",
   "execution_count": null,
   "metadata": {
    "colab": {
     "base_uri": "https://localhost:8080/",
     "height": 748
    },
    "colab_type": "code",
    "id": "1wuTHert_Z09",
    "outputId": "bcb40dff-a30f-4be7-e168-9f1eddb126f7"
   },
   "outputs": [],
   "source": [
    "print(\"Numero Filas y Columnas en dataset de Prueba = \",test_dataset.shape)\n",
    "print(\"Valores nulos en dataSet de Prueba: \\n\")\n",
    "print(test_dataset.isnull().sum())\n",
    "print(\"Tipos de valores: \\n\")\n",
    "print(test_dataset.dtypes)"
   ]
  },
  {
   "cell_type": "markdown",
   "metadata": {
    "colab_type": "text",
    "id": "F4DKMFsR5HP1"
   },
   "source": [
    "Exploratory Analysis"
   ]
  },
  {
   "cell_type": "code",
   "execution_count": null,
   "metadata": {
    "colab": {
     "base_uri": "https://localhost:8080/",
     "height": 756
    },
    "colab_type": "code",
    "id": "eZ8FUxR2ewct",
    "outputId": "215705c4-1e69-400d-8374-eebb5d055bb3"
   },
   "outputs": [],
   "source": [
    "corr = train_dataset.corr(method=\"spearman\")\n",
    "plt.figure(figsize=(15,10)), sns.heatmap(corr, annot = True,cmap='BuGn')\n",
    "plt.title(\"Correlation matrix\",fontdict= {'fontsize':60})\n",
    "plt.savefig(\"correlation-matriz-datSet.png\")\n",
    "plt.show()"
   ]
  },
  {
   "cell_type": "code",
   "execution_count": null,
   "metadata": {
    "colab": {
     "base_uri": "https://localhost:8080/",
     "height": 438
    },
    "colab_type": "code",
    "id": "P9Q6tO5vfx6p",
    "outputId": "8ff49cf3-871a-4e46-8cb1-a36ab5222185"
   },
   "outputs": [],
   "source": [
    "rs = np.random.RandomState(0)\n",
    "df = pd.DataFrame(rs.rand(20, 20))\n",
    "corr = train_dataset.corr()\n",
    "corr.style.background_gradient(cmap='coolwarm')"
   ]
  },
  {
   "cell_type": "code",
   "execution_count": null,
   "metadata": {
    "colab": {
     "base_uri": "https://localhost:8080/",
     "height": 968,
     "referenced_widgets": [
      "282b2be3ced04acbb97f89a6e35e7ce4",
      "05323bc971934161949ac6effe236131",
      "77776f14dfa2482f80a5d1ad886f812e",
      "e19fd7bd60024accb00df7ca8862e41d",
      "e526cb453b094f0a810a96b016fa436b",
      "f689205a9bd84e029109ca11ea984833",
      "b9ff2aefa47a492f8714242c65c5d39c",
      "2435640ae29f4df29d82da9504b803fd",
      "45706e55eb184737929f6d2ba3f41fc4",
      "51574583a0e14a1a9e82ada583c0e015",
      "3e9e76d049e94a389f2603c6eec0be89",
      "accc66c86458410a96cadd1632ddd56d",
      "3845381ea15444d38bbd35457bfc9d02",
      "a685138665f84ff1ac1af5beaddd2c31",
      "39094a1fdd04430896f5780043789b12",
      "f09bf57db6514135b45304318b2f7a4c",
      "d706fe5ae9b1473795bd4395b06fee68",
      "f9fcf22d9c254078a0bf8ee96ad706f7",
      "01caab9839734bc9b42c678bce14792d",
      "a4cd7a21504e4168863a82873eccf37b",
      "9c7fbc8cd17c4065a08ee1bf20a9bc69",
      "39cc7df15e3a4f2aa8d2c0e19e0268c7",
      "a1c430cf72e9411582134f25e116de7e",
      "11acbd84d1ca482ba01d2049d0907f8a"
     ]
    },
    "colab_type": "code",
    "id": "eTpRJapLi_E-",
    "outputId": "b7194aea-e458-4a98-c295-c7243baa6899"
   },
   "outputs": [],
   "source": [
    "pandas_profiling.ProfileReport(train_dataset)"
   ]
  },
  {
   "cell_type": "code",
   "execution_count": null,
   "metadata": {
    "colab": {},
    "colab_type": "code",
    "id": "BytNsSZYG76M"
   },
   "outputs": [],
   "source": [
    "train_dataset = train_dataset.drop(['first_job','second_job','number_of_credit_cards','is_married','smoker','email_domain','credit_card_provider','expire_month','email_domain'],axis=1)\n",
    "\n",
    "test_dataset = test_dataset.drop(['first_job','second_job','number_of_credit_cards','is_married','smoker','email_domain','credit_card_provider','expire_month','email_domain'],axis=1)"
   ]
  },
  {
   "cell_type": "code",
   "execution_count": null,
   "metadata": {
    "colab": {
     "base_uri": "https://localhost:8080/",
     "height": 742
    },
    "colab_type": "code",
    "id": "ZmXuIE-KbWEU",
    "outputId": "1ddcf3d7-e52f-4de5-dc3a-198e75b75fc8"
   },
   "outputs": [],
   "source": [
    "corr = train_dataset.corr(method=\"spearman\")\n",
    "plt.figure(figsize=(15,10)), sns.heatmap(corr, annot = True,cmap='BuGn')\n",
    "plt.title(\"Correlation matrix\",fontdict= {'fontsize':60})\n",
    "plt.savefig(\"correlation-matriz-datSet.png\")\n",
    "plt.show()"
   ]
  },
  {
   "cell_type": "code",
   "execution_count": null,
   "metadata": {
    "colab": {},
    "colab_type": "code",
    "id": "MPEmTerXk6qF"
   },
   "outputs": [],
   "source": [
    "train_dataset['defaulted_loan'] = train_dataset['defaulted_loan'].apply(toMapClass)\n",
    "X_original_train = train_dataset.drop(['application_id','defaulted_loan'], axis=1)\n",
    "y_original_train = train_dataset['defaulted_loan']\n",
    "id_original_train = train_dataset['application_id']\n",
    "\n",
    "X_original_test = test_dataset.drop(['application_id'], axis=1)\n",
    "id_original_test = test_dataset['application_id']"
   ]
  },
  {
   "cell_type": "markdown",
   "metadata": {
    "colab_type": "text",
    "id": "ymvbaHHP6YpH"
   },
   "source": [
    "Evaluate several models with Cross Validation"
   ]
  },
  {
   "cell_type": "code",
   "execution_count": null,
   "metadata": {
    "colab": {},
    "colab_type": "code",
    "id": "tLNHxWgU5iIb"
   },
   "outputs": [],
   "source": [
    "# Create Decision Tree Model\n",
    "desicion_tree = DecisionTreeClassifier()\n",
    "skf = StratifiedKFold(n_splits=5)\n",
    "scores_desicionTree = cross_val_score(desicion_tree, X_original_train, y_original_train, cv = skf, scoring=\"accuracy\")"
   ]
  },
  {
   "cell_type": "code",
   "execution_count": null,
   "metadata": {
    "colab": {
     "base_uri": "https://localhost:8080/",
     "height": 51
    },
    "colab_type": "code",
    "id": "aTapog4C5mW8",
    "outputId": "7f5e7c2b-7e08-4210-f714-d53aa0963f37"
   },
   "outputs": [],
   "source": [
    "print(\"Decision Tree: Accuracies with Cross Validation: \", scores_desicionTree)\n",
    "print(\"Decision Tree: Accuracy with Cross Validation: \", scores_desicionTree.mean())"
   ]
  },
  {
   "cell_type": "code",
   "execution_count": null,
   "metadata": {
    "colab": {},
    "colab_type": "code",
    "id": "SHwxGv7Q5zNX"
   },
   "outputs": [],
   "source": [
    "# Create Suport Vector Machine Model\n",
    "svc = SVC(kernel='rbf')\n",
    "skf = StratifiedKFold(n_splits=5)\n",
    "scores_svc = cross_val_score(svc, X_original_train, y_original_train, cv = skf, scoring=\"accuracy\")"
   ]
  },
  {
   "cell_type": "code",
   "execution_count": null,
   "metadata": {
    "colab": {
     "base_uri": "https://localhost:8080/",
     "height": 51
    },
    "colab_type": "code",
    "id": "o_4sZgqg54Ii",
    "outputId": "611ae466-9f8d-48a5-ab12-684fb0a56b36"
   },
   "outputs": [],
   "source": [
    "print(\"SVC: Accuracies with Cross Validation: \", scores_svc)\n",
    "print(\"SVC: Accuracy with Cross Validation: \", scores_svc.mean())"
   ]
  },
  {
   "cell_type": "code",
   "execution_count": null,
   "metadata": {
    "colab": {},
    "colab_type": "code",
    "id": "K59LkQbH57lX"
   },
   "outputs": [],
   "source": [
    "# Create Naive Bayes Model\n",
    "naive_Bayes = GaussianNB()\n",
    "skf = StratifiedKFold(n_splits=5)\n",
    "scores_naive = cross_val_score(naive_Bayes, X_original_train, y_original_train, cv = skf, scoring=\"accuracy\")\n",
    "y_pred_cross = cross_val_predict(naive_Bayes,X_original_train,y_original_train,cv = skf )"
   ]
  },
  {
   "cell_type": "code",
   "execution_count": null,
   "metadata": {
    "colab": {
     "base_uri": "https://localhost:8080/",
     "height": 51
    },
    "colab_type": "code",
    "id": "pVaG8DxN5-vN",
    "outputId": "e0d1e770-acdc-403b-d116-06f25877e29f"
   },
   "outputs": [],
   "source": [
    "print(\"Naive Bayes: Accuracies with Cross Validation: \", scores_naive)\n",
    "print(\"Naive Bayes: Accuracy with Cross Validation: \", scores_naive.mean())"
   ]
  },
  {
   "cell_type": "code",
   "execution_count": null,
   "metadata": {
    "colab": {},
    "colab_type": "code",
    "id": "_G5anpIIqM2Q"
   },
   "outputs": [],
   "source": [
    "X_train, X_test, y_train, y_test = train_test_split(X_original_train, y_original_train, test_size=0.3, random_state=1)\n",
    "def run_model(X_train, X_test, y_train, y_test):\n",
    "  skf = StratifiedKFold(n_splits=5)\n",
    "  naive_Bayes = GaussianNB()\n",
    "  naive_Bayes.fit(X_train, y_train)\n",
    "  return naive_Bayes\n",
    "\n",
    "def mostrar_resultados(y_test, pred_y):\n",
    "  conf_matrix = confusion_matrix(y_test, pred_y)\n",
    "  plt.figure(figsize=(12, 12))\n",
    "  sns.heatmap(conf_matrix, annot=True, fmt=\"d\");\n",
    "  plt.title(\"Confusion matrix\")\n",
    "  plt.ylabel('True class')\n",
    "  plt.xlabel('Predicted class')\n",
    "  plt.show()\n",
    "  print(classification_report(y_test, pred_y))"
   ]
  },
  {
   "cell_type": "code",
   "execution_count": null,
   "metadata": {
    "colab": {
     "base_uri": "https://localhost:8080/",
     "height": 887
    },
    "colab_type": "code",
    "id": "EDgQfi0ww8jA",
    "outputId": "b0bb478d-b932-4c70-fb12-7dce2ee494a0"
   },
   "outputs": [],
   "source": [
    "mostrar_resultados(y_original_train,y_pred_cross)"
   ]
  },
  {
   "cell_type": "markdown",
   "metadata": {
    "colab_type": "text",
    "id": "tQdlcgAE86O-"
   },
   "source": [
    "Balance"
   ]
  },
  {
   "cell_type": "code",
   "execution_count": null,
   "metadata": {
    "colab": {
     "base_uri": "https://localhost:8080/",
     "height": 975
    },
    "colab_type": "code",
    "id": "HtGjsXtAxjvm",
    "outputId": "c45b94d0-1208-4f28-fddf-697c2329ef82"
   },
   "outputs": [],
   "source": [
    "os_us = SMOTETomek(ratio=0.5)\n",
    "X_train_res, y_train_res = os_us.fit_sample(X_train, y_train)\n",
    "model = run_model(X_train_res, X_test, y_train_res, y_test)\n",
    "pred_y = model.predict(X_test)\n",
    "mostrar_resultados(y_test, pred_y)"
   ]
  },
  {
   "cell_type": "code",
   "execution_count": null,
   "metadata": {
    "colab": {
     "base_uri": "https://localhost:8080/",
     "height": 299
    },
    "colab_type": "code",
    "id": "680O2-xkx5n6",
    "outputId": "ec2b8937-a07c-43c8-bad4-d54ca4c45aa8"
   },
   "outputs": [],
   "source": [
    "y_pred = model.predict_proba(X_train)\n",
    "skplt.metrics.plot_lift_curve(y_train, y_pred, title='Lift Curve')\n",
    "plt.show()"
   ]
  },
  {
   "cell_type": "code",
   "execution_count": null,
   "metadata": {
    "colab": {
     "base_uri": "https://localhost:8080/",
     "height": 299
    },
    "colab_type": "code",
    "id": "OtvwQIRJy1U2",
    "outputId": "25797241-8c0e-4a89-d282-171225b363af"
   },
   "outputs": [],
   "source": [
    "y_pred = model.predict_proba(X_train)\n",
    "skplt.metrics.plot_roc(y_train, y_pred,title='ROC Curve')\n",
    "plt.show()"
   ]
  },
  {
   "cell_type": "markdown",
   "metadata": {
    "colab_type": "text",
    "id": "ynURzE8H9PZi"
   },
   "source": [
    "Predict new data"
   ]
  },
  {
   "cell_type": "code",
   "execution_count": null,
   "metadata": {
    "colab": {},
    "colab_type": "code",
    "id": "c2ZovPZBGZHk"
   },
   "outputs": [],
   "source": [
    "y_predicted_test = model.predict(X_original_test)\n",
    "id_original_test = list(id_original_test)\n",
    "output = pd.DataFrame({'application_id': id_original_test, 'defaulted_loan':y_predicted_test})"
   ]
  },
  {
   "cell_type": "markdown",
   "metadata": {
    "colab_type": "text",
    "id": "GwC7WL8T9Tkf"
   },
   "source": [
    "Export dataset"
   ]
  },
  {
   "cell_type": "code",
   "execution_count": null,
   "metadata": {
    "colab": {
     "base_uri": "https://localhost:8080/",
     "height": 17
    },
    "colab_type": "code",
    "id": "vWhTaYk_Mb_T",
    "outputId": "a03d39b7-a16c-4de6-d264-b82a3200bd91"
   },
   "outputs": [],
   "source": [
    "output.to_csv('Hernan Cadena 02-09-2020 Proy final machine learning.csv', index=False) \n",
    "#files.download('Hernan Cadena 02-09-2020 Proy final machine learning.csv')"
   ]
  }
 ],
 "metadata": {
  "colab": {
   "collapsed_sections": [],
   "name": "CreditClassifier.ipynb",
   "provenance": []
  },
  "kernelspec": {
   "display_name": "Python 3",
   "language": "python",
   "name": "python3"
  },
  "language_info": {
   "codemirror_mode": {
    "name": "ipython",
    "version": 3
   },
   "file_extension": ".py",
   "mimetype": "text/x-python",
   "name": "python",
   "nbconvert_exporter": "python",
   "pygments_lexer": "ipython3",
   "version": "3.7.7"
  },
  "widgets": {
   "application/vnd.jupyter.widget-state+json": {
    "01caab9839734bc9b42c678bce14792d": {
     "model_module": "@jupyter-widgets/controls",
     "model_name": "FloatProgressModel",
     "state": {
      "_dom_classes": [],
      "_model_module": "@jupyter-widgets/controls",
      "_model_module_version": "1.5.0",
      "_model_name": "FloatProgressModel",
      "_view_count": null,
      "_view_module": "@jupyter-widgets/controls",
      "_view_module_version": "1.5.0",
      "_view_name": "ProgressView",
      "bar_style": "success",
      "description": "Render HTML: 100%",
      "description_tooltip": null,
      "layout": "IPY_MODEL_39cc7df15e3a4f2aa8d2c0e19e0268c7",
      "max": 1,
      "min": 0,
      "orientation": "horizontal",
      "style": "IPY_MODEL_9c7fbc8cd17c4065a08ee1bf20a9bc69",
      "value": 1
     }
    },
    "05323bc971934161949ac6effe236131": {
     "model_module": "@jupyter-widgets/base",
     "model_name": "LayoutModel",
     "state": {
      "_model_module": "@jupyter-widgets/base",
      "_model_module_version": "1.2.0",
      "_model_name": "LayoutModel",
      "_view_count": null,
      "_view_module": "@jupyter-widgets/base",
      "_view_module_version": "1.2.0",
      "_view_name": "LayoutView",
      "align_content": null,
      "align_items": null,
      "align_self": null,
      "border": null,
      "bottom": null,
      "display": null,
      "flex": null,
      "flex_flow": null,
      "grid_area": null,
      "grid_auto_columns": null,
      "grid_auto_flow": null,
      "grid_auto_rows": null,
      "grid_column": null,
      "grid_gap": null,
      "grid_row": null,
      "grid_template_areas": null,
      "grid_template_columns": null,
      "grid_template_rows": null,
      "height": null,
      "justify_content": null,
      "justify_items": null,
      "left": null,
      "margin": null,
      "max_height": null,
      "max_width": null,
      "min_height": null,
      "min_width": null,
      "object_fit": null,
      "object_position": null,
      "order": null,
      "overflow": null,
      "overflow_x": null,
      "overflow_y": null,
      "padding": null,
      "right": null,
      "top": null,
      "visibility": null,
      "width": null
     }
    },
    "11acbd84d1ca482ba01d2049d0907f8a": {
     "model_module": "@jupyter-widgets/base",
     "model_name": "LayoutModel",
     "state": {
      "_model_module": "@jupyter-widgets/base",
      "_model_module_version": "1.2.0",
      "_model_name": "LayoutModel",
      "_view_count": null,
      "_view_module": "@jupyter-widgets/base",
      "_view_module_version": "1.2.0",
      "_view_name": "LayoutView",
      "align_content": null,
      "align_items": null,
      "align_self": null,
      "border": null,
      "bottom": null,
      "display": null,
      "flex": null,
      "flex_flow": null,
      "grid_area": null,
      "grid_auto_columns": null,
      "grid_auto_flow": null,
      "grid_auto_rows": null,
      "grid_column": null,
      "grid_gap": null,
      "grid_row": null,
      "grid_template_areas": null,
      "grid_template_columns": null,
      "grid_template_rows": null,
      "height": null,
      "justify_content": null,
      "justify_items": null,
      "left": null,
      "margin": null,
      "max_height": null,
      "max_width": null,
      "min_height": null,
      "min_width": null,
      "object_fit": null,
      "object_position": null,
      "order": null,
      "overflow": null,
      "overflow_x": null,
      "overflow_y": null,
      "padding": null,
      "right": null,
      "top": null,
      "visibility": null,
      "width": null
     }
    },
    "2435640ae29f4df29d82da9504b803fd": {
     "model_module": "@jupyter-widgets/base",
     "model_name": "LayoutModel",
     "state": {
      "_model_module": "@jupyter-widgets/base",
      "_model_module_version": "1.2.0",
      "_model_name": "LayoutModel",
      "_view_count": null,
      "_view_module": "@jupyter-widgets/base",
      "_view_module_version": "1.2.0",
      "_view_name": "LayoutView",
      "align_content": null,
      "align_items": null,
      "align_self": null,
      "border": null,
      "bottom": null,
      "display": null,
      "flex": null,
      "flex_flow": null,
      "grid_area": null,
      "grid_auto_columns": null,
      "grid_auto_flow": null,
      "grid_auto_rows": null,
      "grid_column": null,
      "grid_gap": null,
      "grid_row": null,
      "grid_template_areas": null,
      "grid_template_columns": null,
      "grid_template_rows": null,
      "height": null,
      "justify_content": null,
      "justify_items": null,
      "left": null,
      "margin": null,
      "max_height": null,
      "max_width": null,
      "min_height": null,
      "min_width": null,
      "object_fit": null,
      "object_position": null,
      "order": null,
      "overflow": null,
      "overflow_x": null,
      "overflow_y": null,
      "padding": null,
      "right": null,
      "top": null,
      "visibility": null,
      "width": null
     }
    },
    "282b2be3ced04acbb97f89a6e35e7ce4": {
     "model_module": "@jupyter-widgets/controls",
     "model_name": "HBoxModel",
     "state": {
      "_dom_classes": [],
      "_model_module": "@jupyter-widgets/controls",
      "_model_module_version": "1.5.0",
      "_model_name": "HBoxModel",
      "_view_count": null,
      "_view_module": "@jupyter-widgets/controls",
      "_view_module_version": "1.5.0",
      "_view_name": "HBoxView",
      "box_style": "",
      "children": [
       "IPY_MODEL_77776f14dfa2482f80a5d1ad886f812e",
       "IPY_MODEL_e19fd7bd60024accb00df7ca8862e41d"
      ],
      "layout": "IPY_MODEL_05323bc971934161949ac6effe236131"
     }
    },
    "3845381ea15444d38bbd35457bfc9d02": {
     "model_module": "@jupyter-widgets/controls",
     "model_name": "ProgressStyleModel",
     "state": {
      "_model_module": "@jupyter-widgets/controls",
      "_model_module_version": "1.5.0",
      "_model_name": "ProgressStyleModel",
      "_view_count": null,
      "_view_module": "@jupyter-widgets/base",
      "_view_module_version": "1.2.0",
      "_view_name": "StyleView",
      "bar_color": null,
      "description_width": "initial"
     }
    },
    "39094a1fdd04430896f5780043789b12": {
     "model_module": "@jupyter-widgets/controls",
     "model_name": "DescriptionStyleModel",
     "state": {
      "_model_module": "@jupyter-widgets/controls",
      "_model_module_version": "1.5.0",
      "_model_name": "DescriptionStyleModel",
      "_view_count": null,
      "_view_module": "@jupyter-widgets/base",
      "_view_module_version": "1.2.0",
      "_view_name": "StyleView",
      "description_width": ""
     }
    },
    "39cc7df15e3a4f2aa8d2c0e19e0268c7": {
     "model_module": "@jupyter-widgets/base",
     "model_name": "LayoutModel",
     "state": {
      "_model_module": "@jupyter-widgets/base",
      "_model_module_version": "1.2.0",
      "_model_name": "LayoutModel",
      "_view_count": null,
      "_view_module": "@jupyter-widgets/base",
      "_view_module_version": "1.2.0",
      "_view_name": "LayoutView",
      "align_content": null,
      "align_items": null,
      "align_self": null,
      "border": null,
      "bottom": null,
      "display": null,
      "flex": null,
      "flex_flow": null,
      "grid_area": null,
      "grid_auto_columns": null,
      "grid_auto_flow": null,
      "grid_auto_rows": null,
      "grid_column": null,
      "grid_gap": null,
      "grid_row": null,
      "grid_template_areas": null,
      "grid_template_columns": null,
      "grid_template_rows": null,
      "height": null,
      "justify_content": null,
      "justify_items": null,
      "left": null,
      "margin": null,
      "max_height": null,
      "max_width": null,
      "min_height": null,
      "min_width": null,
      "object_fit": null,
      "object_position": null,
      "order": null,
      "overflow": null,
      "overflow_x": null,
      "overflow_y": null,
      "padding": null,
      "right": null,
      "top": null,
      "visibility": null,
      "width": null
     }
    },
    "3e9e76d049e94a389f2603c6eec0be89": {
     "model_module": "@jupyter-widgets/controls",
     "model_name": "FloatProgressModel",
     "state": {
      "_dom_classes": [],
      "_model_module": "@jupyter-widgets/controls",
      "_model_module_version": "1.5.0",
      "_model_name": "FloatProgressModel",
      "_view_count": null,
      "_view_module": "@jupyter-widgets/controls",
      "_view_module_version": "1.5.0",
      "_view_name": "ProgressView",
      "bar_style": "success",
      "description": "Generate report structure: 100%",
      "description_tooltip": null,
      "layout": "IPY_MODEL_a685138665f84ff1ac1af5beaddd2c31",
      "max": 1,
      "min": 0,
      "orientation": "horizontal",
      "style": "IPY_MODEL_3845381ea15444d38bbd35457bfc9d02",
      "value": 1
     }
    },
    "45706e55eb184737929f6d2ba3f41fc4": {
     "model_module": "@jupyter-widgets/controls",
     "model_name": "HBoxModel",
     "state": {
      "_dom_classes": [],
      "_model_module": "@jupyter-widgets/controls",
      "_model_module_version": "1.5.0",
      "_model_name": "HBoxModel",
      "_view_count": null,
      "_view_module": "@jupyter-widgets/controls",
      "_view_module_version": "1.5.0",
      "_view_name": "HBoxView",
      "box_style": "",
      "children": [
       "IPY_MODEL_3e9e76d049e94a389f2603c6eec0be89",
       "IPY_MODEL_accc66c86458410a96cadd1632ddd56d"
      ],
      "layout": "IPY_MODEL_51574583a0e14a1a9e82ada583c0e015"
     }
    },
    "51574583a0e14a1a9e82ada583c0e015": {
     "model_module": "@jupyter-widgets/base",
     "model_name": "LayoutModel",
     "state": {
      "_model_module": "@jupyter-widgets/base",
      "_model_module_version": "1.2.0",
      "_model_name": "LayoutModel",
      "_view_count": null,
      "_view_module": "@jupyter-widgets/base",
      "_view_module_version": "1.2.0",
      "_view_name": "LayoutView",
      "align_content": null,
      "align_items": null,
      "align_self": null,
      "border": null,
      "bottom": null,
      "display": null,
      "flex": null,
      "flex_flow": null,
      "grid_area": null,
      "grid_auto_columns": null,
      "grid_auto_flow": null,
      "grid_auto_rows": null,
      "grid_column": null,
      "grid_gap": null,
      "grid_row": null,
      "grid_template_areas": null,
      "grid_template_columns": null,
      "grid_template_rows": null,
      "height": null,
      "justify_content": null,
      "justify_items": null,
      "left": null,
      "margin": null,
      "max_height": null,
      "max_width": null,
      "min_height": null,
      "min_width": null,
      "object_fit": null,
      "object_position": null,
      "order": null,
      "overflow": null,
      "overflow_x": null,
      "overflow_y": null,
      "padding": null,
      "right": null,
      "top": null,
      "visibility": null,
      "width": null
     }
    },
    "77776f14dfa2482f80a5d1ad886f812e": {
     "model_module": "@jupyter-widgets/controls",
     "model_name": "FloatProgressModel",
     "state": {
      "_dom_classes": [],
      "_model_module": "@jupyter-widgets/controls",
      "_model_module_version": "1.5.0",
      "_model_name": "FloatProgressModel",
      "_view_count": null,
      "_view_module": "@jupyter-widgets/controls",
      "_view_module_version": "1.5.0",
      "_view_name": "ProgressView",
      "bar_style": "success",
      "description": "Summarize dataset: ",
      "description_tooltip": null,
      "layout": "IPY_MODEL_f689205a9bd84e029109ca11ea984833",
      "max": 31,
      "min": 0,
      "orientation": "horizontal",
      "style": "IPY_MODEL_e526cb453b094f0a810a96b016fa436b",
      "value": 31
     }
    },
    "9c7fbc8cd17c4065a08ee1bf20a9bc69": {
     "model_module": "@jupyter-widgets/controls",
     "model_name": "ProgressStyleModel",
     "state": {
      "_model_module": "@jupyter-widgets/controls",
      "_model_module_version": "1.5.0",
      "_model_name": "ProgressStyleModel",
      "_view_count": null,
      "_view_module": "@jupyter-widgets/base",
      "_view_module_version": "1.2.0",
      "_view_name": "StyleView",
      "bar_color": null,
      "description_width": "initial"
     }
    },
    "a1c430cf72e9411582134f25e116de7e": {
     "model_module": "@jupyter-widgets/controls",
     "model_name": "DescriptionStyleModel",
     "state": {
      "_model_module": "@jupyter-widgets/controls",
      "_model_module_version": "1.5.0",
      "_model_name": "DescriptionStyleModel",
      "_view_count": null,
      "_view_module": "@jupyter-widgets/base",
      "_view_module_version": "1.2.0",
      "_view_name": "StyleView",
      "description_width": ""
     }
    },
    "a4cd7a21504e4168863a82873eccf37b": {
     "model_module": "@jupyter-widgets/controls",
     "model_name": "HTMLModel",
     "state": {
      "_dom_classes": [],
      "_model_module": "@jupyter-widgets/controls",
      "_model_module_version": "1.5.0",
      "_model_name": "HTMLModel",
      "_view_count": null,
      "_view_module": "@jupyter-widgets/controls",
      "_view_module_version": "1.5.0",
      "_view_name": "HTMLView",
      "description": "",
      "description_tooltip": null,
      "layout": "IPY_MODEL_11acbd84d1ca482ba01d2049d0907f8a",
      "placeholder": "​",
      "style": "IPY_MODEL_a1c430cf72e9411582134f25e116de7e",
      "value": " 1/1 [00:06&lt;00:00,  6.06s/it]"
     }
    },
    "a685138665f84ff1ac1af5beaddd2c31": {
     "model_module": "@jupyter-widgets/base",
     "model_name": "LayoutModel",
     "state": {
      "_model_module": "@jupyter-widgets/base",
      "_model_module_version": "1.2.0",
      "_model_name": "LayoutModel",
      "_view_count": null,
      "_view_module": "@jupyter-widgets/base",
      "_view_module_version": "1.2.0",
      "_view_name": "LayoutView",
      "align_content": null,
      "align_items": null,
      "align_self": null,
      "border": null,
      "bottom": null,
      "display": null,
      "flex": null,
      "flex_flow": null,
      "grid_area": null,
      "grid_auto_columns": null,
      "grid_auto_flow": null,
      "grid_auto_rows": null,
      "grid_column": null,
      "grid_gap": null,
      "grid_row": null,
      "grid_template_areas": null,
      "grid_template_columns": null,
      "grid_template_rows": null,
      "height": null,
      "justify_content": null,
      "justify_items": null,
      "left": null,
      "margin": null,
      "max_height": null,
      "max_width": null,
      "min_height": null,
      "min_width": null,
      "object_fit": null,
      "object_position": null,
      "order": null,
      "overflow": null,
      "overflow_x": null,
      "overflow_y": null,
      "padding": null,
      "right": null,
      "top": null,
      "visibility": null,
      "width": null
     }
    },
    "accc66c86458410a96cadd1632ddd56d": {
     "model_module": "@jupyter-widgets/controls",
     "model_name": "HTMLModel",
     "state": {
      "_dom_classes": [],
      "_model_module": "@jupyter-widgets/controls",
      "_model_module_version": "1.5.0",
      "_model_name": "HTMLModel",
      "_view_count": null,
      "_view_module": "@jupyter-widgets/controls",
      "_view_module_version": "1.5.0",
      "_view_name": "HTMLView",
      "description": "",
      "description_tooltip": null,
      "layout": "IPY_MODEL_f09bf57db6514135b45304318b2f7a4c",
      "placeholder": "​",
      "style": "IPY_MODEL_39094a1fdd04430896f5780043789b12",
      "value": " 1/1 [00:12&lt;00:00, 12.95s/it]"
     }
    },
    "b9ff2aefa47a492f8714242c65c5d39c": {
     "model_module": "@jupyter-widgets/controls",
     "model_name": "DescriptionStyleModel",
     "state": {
      "_model_module": "@jupyter-widgets/controls",
      "_model_module_version": "1.5.0",
      "_model_name": "DescriptionStyleModel",
      "_view_count": null,
      "_view_module": "@jupyter-widgets/base",
      "_view_module_version": "1.2.0",
      "_view_name": "StyleView",
      "description_width": ""
     }
    },
    "d706fe5ae9b1473795bd4395b06fee68": {
     "model_module": "@jupyter-widgets/controls",
     "model_name": "HBoxModel",
     "state": {
      "_dom_classes": [],
      "_model_module": "@jupyter-widgets/controls",
      "_model_module_version": "1.5.0",
      "_model_name": "HBoxModel",
      "_view_count": null,
      "_view_module": "@jupyter-widgets/controls",
      "_view_module_version": "1.5.0",
      "_view_name": "HBoxView",
      "box_style": "",
      "children": [
       "IPY_MODEL_01caab9839734bc9b42c678bce14792d",
       "IPY_MODEL_a4cd7a21504e4168863a82873eccf37b"
      ],
      "layout": "IPY_MODEL_f9fcf22d9c254078a0bf8ee96ad706f7"
     }
    },
    "e19fd7bd60024accb00df7ca8862e41d": {
     "model_module": "@jupyter-widgets/controls",
     "model_name": "HTMLModel",
     "state": {
      "_dom_classes": [],
      "_model_module": "@jupyter-widgets/controls",
      "_model_module_version": "1.5.0",
      "_model_name": "HTMLModel",
      "_view_count": null,
      "_view_module": "@jupyter-widgets/controls",
      "_view_module_version": "1.5.0",
      "_view_name": "HTMLView",
      "description": "",
      "description_tooltip": null,
      "layout": "IPY_MODEL_2435640ae29f4df29d82da9504b803fd",
      "placeholder": "​",
      "style": "IPY_MODEL_b9ff2aefa47a492f8714242c65c5d39c",
      "value": " 33/? [00:49&lt;00:00,  1.51s/it, Completed]"
     }
    },
    "e526cb453b094f0a810a96b016fa436b": {
     "model_module": "@jupyter-widgets/controls",
     "model_name": "ProgressStyleModel",
     "state": {
      "_model_module": "@jupyter-widgets/controls",
      "_model_module_version": "1.5.0",
      "_model_name": "ProgressStyleModel",
      "_view_count": null,
      "_view_module": "@jupyter-widgets/base",
      "_view_module_version": "1.2.0",
      "_view_name": "StyleView",
      "bar_color": null,
      "description_width": "initial"
     }
    },
    "f09bf57db6514135b45304318b2f7a4c": {
     "model_module": "@jupyter-widgets/base",
     "model_name": "LayoutModel",
     "state": {
      "_model_module": "@jupyter-widgets/base",
      "_model_module_version": "1.2.0",
      "_model_name": "LayoutModel",
      "_view_count": null,
      "_view_module": "@jupyter-widgets/base",
      "_view_module_version": "1.2.0",
      "_view_name": "LayoutView",
      "align_content": null,
      "align_items": null,
      "align_self": null,
      "border": null,
      "bottom": null,
      "display": null,
      "flex": null,
      "flex_flow": null,
      "grid_area": null,
      "grid_auto_columns": null,
      "grid_auto_flow": null,
      "grid_auto_rows": null,
      "grid_column": null,
      "grid_gap": null,
      "grid_row": null,
      "grid_template_areas": null,
      "grid_template_columns": null,
      "grid_template_rows": null,
      "height": null,
      "justify_content": null,
      "justify_items": null,
      "left": null,
      "margin": null,
      "max_height": null,
      "max_width": null,
      "min_height": null,
      "min_width": null,
      "object_fit": null,
      "object_position": null,
      "order": null,
      "overflow": null,
      "overflow_x": null,
      "overflow_y": null,
      "padding": null,
      "right": null,
      "top": null,
      "visibility": null,
      "width": null
     }
    },
    "f689205a9bd84e029109ca11ea984833": {
     "model_module": "@jupyter-widgets/base",
     "model_name": "LayoutModel",
     "state": {
      "_model_module": "@jupyter-widgets/base",
      "_model_module_version": "1.2.0",
      "_model_name": "LayoutModel",
      "_view_count": null,
      "_view_module": "@jupyter-widgets/base",
      "_view_module_version": "1.2.0",
      "_view_name": "LayoutView",
      "align_content": null,
      "align_items": null,
      "align_self": null,
      "border": null,
      "bottom": null,
      "display": null,
      "flex": null,
      "flex_flow": null,
      "grid_area": null,
      "grid_auto_columns": null,
      "grid_auto_flow": null,
      "grid_auto_rows": null,
      "grid_column": null,
      "grid_gap": null,
      "grid_row": null,
      "grid_template_areas": null,
      "grid_template_columns": null,
      "grid_template_rows": null,
      "height": null,
      "justify_content": null,
      "justify_items": null,
      "left": null,
      "margin": null,
      "max_height": null,
      "max_width": null,
      "min_height": null,
      "min_width": null,
      "object_fit": null,
      "object_position": null,
      "order": null,
      "overflow": null,
      "overflow_x": null,
      "overflow_y": null,
      "padding": null,
      "right": null,
      "top": null,
      "visibility": null,
      "width": null
     }
    },
    "f9fcf22d9c254078a0bf8ee96ad706f7": {
     "model_module": "@jupyter-widgets/base",
     "model_name": "LayoutModel",
     "state": {
      "_model_module": "@jupyter-widgets/base",
      "_model_module_version": "1.2.0",
      "_model_name": "LayoutModel",
      "_view_count": null,
      "_view_module": "@jupyter-widgets/base",
      "_view_module_version": "1.2.0",
      "_view_name": "LayoutView",
      "align_content": null,
      "align_items": null,
      "align_self": null,
      "border": null,
      "bottom": null,
      "display": null,
      "flex": null,
      "flex_flow": null,
      "grid_area": null,
      "grid_auto_columns": null,
      "grid_auto_flow": null,
      "grid_auto_rows": null,
      "grid_column": null,
      "grid_gap": null,
      "grid_row": null,
      "grid_template_areas": null,
      "grid_template_columns": null,
      "grid_template_rows": null,
      "height": null,
      "justify_content": null,
      "justify_items": null,
      "left": null,
      "margin": null,
      "max_height": null,
      "max_width": null,
      "min_height": null,
      "min_width": null,
      "object_fit": null,
      "object_position": null,
      "order": null,
      "overflow": null,
      "overflow_x": null,
      "overflow_y": null,
      "padding": null,
      "right": null,
      "top": null,
      "visibility": null,
      "width": null
     }
    }
   }
  }
 },
 "nbformat": 4,
 "nbformat_minor": 1
}
