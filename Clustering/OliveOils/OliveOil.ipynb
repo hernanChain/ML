{
  "nbformat": 4,
  "nbformat_minor": 0,
  "metadata": {
    "colab": {
      "name": "OliveOil.ipynb",
      "provenance": [],
      "collapsed_sections": []
    },
    "kernelspec": {
      "name": "python3",
      "display_name": "Python 3"
    }
  },
  "cells": [
    {
      "cell_type": "code",
      "metadata": {
        "id": "W9fv-igKc0eh",
        "colab_type": "code",
        "colab": {}
      },
      "source": [
        "import pandas as pd\n",
        "import matplotlib.pyplot as plt\n",
        "\n",
        "from sklearn import preprocessing\n",
        "from sklearn.cluster import KMeans\n",
        "\n",
        "from sklearn.decomposition import PCA"
      ],
      "execution_count": 1,
      "outputs": []
    },
    {
      "cell_type": "code",
      "metadata": {
        "id": "MS_XLFfzc74O",
        "colab_type": "code",
        "colab": {}
      },
      "source": [
        "data = pd.read_csv(\"https://raw.githubusercontent.com/hernanChain/csvFiles/master/Oils/olive.csv\")"
      ],
      "execution_count": 2,
      "outputs": []
    },
    {
      "cell_type": "code",
      "metadata": {
        "id": "I68Njv1Ybo70",
        "colab_type": "code",
        "colab": {
          "base_uri": "https://localhost:8080/",
          "height": 419
        },
        "outputId": "64026e92-0f1f-4bcf-e71e-b7a969671c14"
      },
      "source": [
        "data.shape\n",
        "data"
      ],
      "execution_count": 3,
      "outputs": [
        {
          "output_type": "execute_result",
          "data": {
            "text/html": [
              "<div>\n",
              "<style scoped>\n",
              "    .dataframe tbody tr th:only-of-type {\n",
              "        vertical-align: middle;\n",
              "    }\n",
              "\n",
              "    .dataframe tbody tr th {\n",
              "        vertical-align: top;\n",
              "    }\n",
              "\n",
              "    .dataframe thead th {\n",
              "        text-align: right;\n",
              "    }\n",
              "</style>\n",
              "<table border=\"1\" class=\"dataframe\">\n",
              "  <thead>\n",
              "    <tr style=\"text-align: right;\">\n",
              "      <th></th>\n",
              "      <th>Region</th>\n",
              "      <th>Area</th>\n",
              "      <th>palmitic</th>\n",
              "      <th>palmitoleic</th>\n",
              "      <th>stearic</th>\n",
              "      <th>oleic</th>\n",
              "      <th>linoleic</th>\n",
              "      <th>linolenic</th>\n",
              "      <th>arachidic</th>\n",
              "      <th>eicosenoic</th>\n",
              "    </tr>\n",
              "  </thead>\n",
              "  <tbody>\n",
              "    <tr>\n",
              "      <th>0</th>\n",
              "      <td>1</td>\n",
              "      <td>North-Apulia</td>\n",
              "      <td>1075</td>\n",
              "      <td>75</td>\n",
              "      <td>226</td>\n",
              "      <td>7823</td>\n",
              "      <td>672</td>\n",
              "      <td>36</td>\n",
              "      <td>60</td>\n",
              "      <td>29</td>\n",
              "    </tr>\n",
              "    <tr>\n",
              "      <th>1</th>\n",
              "      <td>1</td>\n",
              "      <td>North-Apulia</td>\n",
              "      <td>1088</td>\n",
              "      <td>73</td>\n",
              "      <td>224</td>\n",
              "      <td>7709</td>\n",
              "      <td>781</td>\n",
              "      <td>31</td>\n",
              "      <td>61</td>\n",
              "      <td>29</td>\n",
              "    </tr>\n",
              "    <tr>\n",
              "      <th>2</th>\n",
              "      <td>1</td>\n",
              "      <td>North-Apulia</td>\n",
              "      <td>911</td>\n",
              "      <td>54</td>\n",
              "      <td>246</td>\n",
              "      <td>8113</td>\n",
              "      <td>549</td>\n",
              "      <td>31</td>\n",
              "      <td>63</td>\n",
              "      <td>29</td>\n",
              "    </tr>\n",
              "    <tr>\n",
              "      <th>3</th>\n",
              "      <td>1</td>\n",
              "      <td>North-Apulia</td>\n",
              "      <td>966</td>\n",
              "      <td>57</td>\n",
              "      <td>240</td>\n",
              "      <td>7952</td>\n",
              "      <td>619</td>\n",
              "      <td>50</td>\n",
              "      <td>78</td>\n",
              "      <td>35</td>\n",
              "    </tr>\n",
              "    <tr>\n",
              "      <th>4</th>\n",
              "      <td>1</td>\n",
              "      <td>North-Apulia</td>\n",
              "      <td>1051</td>\n",
              "      <td>67</td>\n",
              "      <td>259</td>\n",
              "      <td>7771</td>\n",
              "      <td>672</td>\n",
              "      <td>50</td>\n",
              "      <td>80</td>\n",
              "      <td>46</td>\n",
              "    </tr>\n",
              "    <tr>\n",
              "      <th>...</th>\n",
              "      <td>...</td>\n",
              "      <td>...</td>\n",
              "      <td>...</td>\n",
              "      <td>...</td>\n",
              "      <td>...</td>\n",
              "      <td>...</td>\n",
              "      <td>...</td>\n",
              "      <td>...</td>\n",
              "      <td>...</td>\n",
              "      <td>...</td>\n",
              "    </tr>\n",
              "    <tr>\n",
              "      <th>567</th>\n",
              "      <td>3</td>\n",
              "      <td>West-Liguria</td>\n",
              "      <td>1280</td>\n",
              "      <td>110</td>\n",
              "      <td>290</td>\n",
              "      <td>7490</td>\n",
              "      <td>790</td>\n",
              "      <td>10</td>\n",
              "      <td>10</td>\n",
              "      <td>2</td>\n",
              "    </tr>\n",
              "    <tr>\n",
              "      <th>568</th>\n",
              "      <td>3</td>\n",
              "      <td>West-Liguria</td>\n",
              "      <td>1060</td>\n",
              "      <td>100</td>\n",
              "      <td>270</td>\n",
              "      <td>7740</td>\n",
              "      <td>810</td>\n",
              "      <td>10</td>\n",
              "      <td>10</td>\n",
              "      <td>3</td>\n",
              "    </tr>\n",
              "    <tr>\n",
              "      <th>569</th>\n",
              "      <td>3</td>\n",
              "      <td>West-Liguria</td>\n",
              "      <td>1010</td>\n",
              "      <td>90</td>\n",
              "      <td>210</td>\n",
              "      <td>7720</td>\n",
              "      <td>970</td>\n",
              "      <td>0</td>\n",
              "      <td>0</td>\n",
              "      <td>2</td>\n",
              "    </tr>\n",
              "    <tr>\n",
              "      <th>570</th>\n",
              "      <td>3</td>\n",
              "      <td>West-Liguria</td>\n",
              "      <td>990</td>\n",
              "      <td>120</td>\n",
              "      <td>250</td>\n",
              "      <td>7750</td>\n",
              "      <td>870</td>\n",
              "      <td>10</td>\n",
              "      <td>10</td>\n",
              "      <td>2</td>\n",
              "    </tr>\n",
              "    <tr>\n",
              "      <th>571</th>\n",
              "      <td>3</td>\n",
              "      <td>West-Liguria</td>\n",
              "      <td>960</td>\n",
              "      <td>80</td>\n",
              "      <td>240</td>\n",
              "      <td>7950</td>\n",
              "      <td>740</td>\n",
              "      <td>10</td>\n",
              "      <td>20</td>\n",
              "      <td>2</td>\n",
              "    </tr>\n",
              "  </tbody>\n",
              "</table>\n",
              "<p>572 rows × 10 columns</p>\n",
              "</div>"
            ],
            "text/plain": [
              "     Region          Area  palmitic  ...  linolenic  arachidic  eicosenoic\n",
              "0         1  North-Apulia      1075  ...         36         60          29\n",
              "1         1  North-Apulia      1088  ...         31         61          29\n",
              "2         1  North-Apulia       911  ...         31         63          29\n",
              "3         1  North-Apulia       966  ...         50         78          35\n",
              "4         1  North-Apulia      1051  ...         50         80          46\n",
              "..      ...           ...       ...  ...        ...        ...         ...\n",
              "567       3  West-Liguria      1280  ...         10         10           2\n",
              "568       3  West-Liguria      1060  ...         10         10           3\n",
              "569       3  West-Liguria      1010  ...          0          0           2\n",
              "570       3  West-Liguria       990  ...         10         10           2\n",
              "571       3  West-Liguria       960  ...         10         20           2\n",
              "\n",
              "[572 rows x 10 columns]"
            ]
          },
          "metadata": {
            "tags": []
          },
          "execution_count": 3
        }
      ]
    },
    {
      "cell_type": "code",
      "metadata": {
        "id": "L-V-dCN_b2i5",
        "colab_type": "code",
        "colab": {
          "base_uri": "https://localhost:8080/",
          "height": 204
        },
        "outputId": "96d60d51-70a2-4a0d-b075-171739a27966"
      },
      "source": [
        "data.isnull().sum()"
      ],
      "execution_count": 4,
      "outputs": [
        {
          "output_type": "execute_result",
          "data": {
            "text/plain": [
              "Region         0\n",
              "Area           0\n",
              "palmitic       0\n",
              "palmitoleic    0\n",
              "stearic        0\n",
              "oleic          0\n",
              "linoleic       0\n",
              "linolenic      0\n",
              "arachidic      0\n",
              "eicosenoic     0\n",
              "dtype: int64"
            ]
          },
          "metadata": {
            "tags": []
          },
          "execution_count": 4
        }
      ]
    },
    {
      "cell_type": "code",
      "metadata": {
        "id": "dgBu784Qb31T",
        "colab_type": "code",
        "colab": {
          "base_uri": "https://localhost:8080/",
          "height": 204
        },
        "outputId": "42710011-4600-4c66-939c-5fdd768771f2"
      },
      "source": [
        "data.dtypes"
      ],
      "execution_count": 5,
      "outputs": [
        {
          "output_type": "execute_result",
          "data": {
            "text/plain": [
              "Region          int64\n",
              "Area           object\n",
              "palmitic        int64\n",
              "palmitoleic     int64\n",
              "stearic         int64\n",
              "oleic           int64\n",
              "linoleic        int64\n",
              "linolenic       int64\n",
              "arachidic       int64\n",
              "eicosenoic      int64\n",
              "dtype: object"
            ]
          },
          "metadata": {
            "tags": []
          },
          "execution_count": 5
        }
      ]
    },
    {
      "cell_type": "code",
      "metadata": {
        "id": "16C6sehjcAK0",
        "colab_type": "code",
        "colab": {}
      },
      "source": [
        "indices = [26, 176, 392,570 ]\n",
        "samples = pd.DataFrame(data.loc[indices], columns=data.keys()).reset_index(drop=True)"
      ],
      "execution_count": 6,
      "outputs": []
    },
    {
      "cell_type": "code",
      "metadata": {
        "id": "WCwv_-nRcFUi",
        "colab_type": "code",
        "colab": {}
      },
      "source": [
        "data = data.drop(indices, axis =0)\n",
        "data = data.drop(['Region','Area'],axis=1)\n",
        "samples = samples.drop(['Region','Area'],axis=1)"
      ],
      "execution_count": 7,
      "outputs": []
    },
    {
      "cell_type": "code",
      "metadata": {
        "id": "emK-HEG_cS_y",
        "colab_type": "code",
        "colab": {}
      },
      "source": [
        "X = data.copy()"
      ],
      "execution_count": 8,
      "outputs": []
    },
    {
      "cell_type": "code",
      "metadata": {
        "id": "fySmHDy6cYfa",
        "colab_type": "code",
        "colab": {}
      },
      "source": [
        "inercia = []\n",
        "for i in range(1, 20):\n",
        "  algoritmo = KMeans(n_clusters=i, init='k-means++',max_iter=300, n_init=10)\n",
        "  algoritmo.fit(X)\n",
        "  inercia.append(algoritmo.inertia_)"
      ],
      "execution_count": 9,
      "outputs": []
    },
    {
      "cell_type": "code",
      "metadata": {
        "id": "aeEGt28Oc13a",
        "colab_type": "code",
        "colab": {
          "base_uri": "https://localhost:8080/",
          "height": 404
        },
        "outputId": "0413ce25-0bde-40be-8843-c5d7527f3d0a"
      },
      "source": [
        "plt.figure(figsize=[10,6])\n",
        "plt.title('Metodo del Codo')\n",
        "plt.xlabel('Numero Clusters')\n",
        "plt.ylabel('Inercia')\n",
        "plt.plot(list(range(1,20)),inercia, marker='o')\n",
        "plt.show()"
      ],
      "execution_count": 10,
      "outputs": [
        {
          "output_type": "display_data",
          "data": {
            "image/png": "[encoded data removed]",
            "text/plain": [
              "<Figure size 720x432 with 1 Axes>"
            ]
          },
          "metadata": {
            "tags": [],
            "needs_background": "light"
          }
        }
      ]
    },
    {
      "cell_type": "code",
      "metadata": {
        "id": "9_mf_6IOc_ag",
        "colab_type": "code",
        "colab": {}
      },
      "source": [
        "algoritmo = KMeans(n_clusters=6, init='k-means++',max_iter=300, n_init=10)"
      ],
      "execution_count": 17,
      "outputs": []
    },
    {
      "cell_type": "code",
      "metadata": {
        "id": "WvtBh3UgdDxu",
        "colab_type": "code",
        "colab": {
          "base_uri": "https://localhost:8080/",
          "height": 68
        },
        "outputId": "7bb94620-fc60-4c8b-ae3c-c7b1753771a9"
      },
      "source": [
        "algoritmo.fit(X)"
      ],
      "execution_count": 18,
      "outputs": [
        {
          "output_type": "execute_result",
          "data": {
            "text/plain": [
              "KMeans(algorithm='auto', copy_x=True, init='k-means++', max_iter=300,\n",
              "       n_clusters=6, n_init=10, n_jobs=None, precompute_distances='auto',\n",
              "       random_state=None, tol=0.0001, verbose=0)"
            ]
          },
          "metadata": {
            "tags": []
          },
          "execution_count": 18
        }
      ]
    },
    {
      "cell_type": "code",
      "metadata": {
        "id": "Rom1k6ytdHBl",
        "colab_type": "code",
        "colab": {}
      },
      "source": [
        "centers, labels = algoritmo.cluster_centers_, algoritmo.labels_"
      ],
      "execution_count": 19,
      "outputs": []
    },
    {
      "cell_type": "code",
      "metadata": {
        "id": "4Y4tQNZudKot",
        "colab_type": "code",
        "colab": {
          "base_uri": "https://localhost:8080/",
          "height": 34
        },
        "outputId": "04138958-826b-4145-dda3-04882def21a6"
      },
      "source": [
        "labels.shape"
      ],
      "execution_count": 20,
      "outputs": [
        {
          "output_type": "execute_result",
          "data": {
            "text/plain": [
              "(568,)"
            ]
          },
          "metadata": {
            "tags": []
          },
          "execution_count": 20
        }
      ]
    },
    {
      "cell_type": "code",
      "metadata": {
        "id": "0uG6eV4zdY7r",
        "colab_type": "code",
        "colab": {
          "base_uri": "https://localhost:8080/",
          "height": 85
        },
        "outputId": "00e2079b-e57a-48ad-8e16-89623434ec8b"
      },
      "source": [
        "pred = algoritmo.predict(samples)\n",
        "for i, p in enumerate(pred):\n",
        "  print(\"Muestra \",i,\" se encuentra en el cluster: \",p)"
      ],
      "execution_count": 21,
      "outputs": [
        {
          "output_type": "stream",
          "text": [
            "Muestra  0  se encuentra en el cluster:  2\n",
            "Muestra  1  se encuentra en el cluster:  0\n",
            "Muestra  2  se encuentra en el cluster:  4\n",
            "Muestra  3  se encuentra en el cluster:  5\n"
          ],
          "name": "stdout"
        }
      ]
    },
    {
      "cell_type": "code",
      "metadata": {
        "id": "H6r-RZITdht8",
        "colab_type": "code",
        "colab": {
          "base_uri": "https://localhost:8080/",
          "height": 269
        },
        "outputId": "5caf8742-28d7-4d6f-bc48-dd1cff1f69b1"
      },
      "source": [
        "### GRAFICAR LOS DATOS JUNTO A LOS RESULTADOS ###\n",
        "# Se aplica la reducción de dimensionalidad a los datos\n",
        "from sklearn.decomposition import PCA\n",
        "\n",
        "modelo_pca = PCA(n_components = 2)\n",
        "modelo_pca.fit(X)\n",
        "pca = modelo_pca.transform(X) \n",
        "\n",
        "#Se aplicar la reducción de dimsensionalidad a los centroides\n",
        "centroides_pca = modelo_pca.transform(centers)\n",
        "\n",
        "# Se define los colores de cada clúster\n",
        "colores = ['blue', 'red', 'green', 'orange', 'gray', 'brown']\n",
        "#colores = ['blue', 'red', 'green']\n",
        "\n",
        "#Se asignan los colores a cada clústeres\n",
        "colores_cluster = [colores[labels[i]] for i in range(len(pca))]\n",
        "\n",
        "#Se grafica los componentes PCA\n",
        "plt.scatter(pca[:, 0], pca[:, 1], c = colores_cluster, \n",
        "            marker = 'o',alpha = 0.4)\n",
        "\n",
        "#Se grafican los centroides\n",
        "plt.scatter(centroides_pca[:, 0], centroides_pca[:, 1],\n",
        "            marker = 'x', s = 100, linewidths = 3, c = colores)\n",
        "\n",
        "#Se guadan los datos en una variable para que sea fácil escribir el código\n",
        "xvector = modelo_pca.components_[0] * max(pca[:,0])\n",
        "yvector = modelo_pca.components_[1] * max(pca[:,1])\n",
        "columnas = data.columns\n",
        "\n",
        "#Se grafican los nombres de los clústeres con la distancia del vector\n",
        "for i in range(len(columnas)):\n",
        "    #Se grafican los vectores\n",
        "    plt.arrow(0, 0, xvector[i], yvector[i], color = 'black', \n",
        "              width = 0.0005, head_width = 0.02, alpha = 0.75)\n",
        "    #Se colocan los nombres\n",
        "    plt.text(xvector[i], yvector[i], list(columnas)[i], color='black', \n",
        "             alpha=0.75)\n",
        "\n",
        "plt.show()"
      ],
      "execution_count": 22,
      "outputs": [
        {
          "output_type": "display_data",
          "data": {
            "image/png": "[encoded data removed]",
            "text/plain": [
              "<Figure size 432x288 with 1 Axes>"
            ]
          },
          "metadata": {
            "tags": [],
            "needs_background": "light"
          }
        }
      ]
    }
  ]
}